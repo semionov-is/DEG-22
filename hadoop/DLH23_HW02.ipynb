{
 "cells": [
  {
   "cell_type": "markdown",
   "metadata": {},
   "source": [
    "1. mapper"
   ]
  },
  {
   "cell_type": "code",
   "execution_count": 2,
   "metadata": {},
   "outputs": [],
   "source": [
    "input_file = 'keywords.csv'  \n",
    "output_file = 'keywords_mapped.csv'"
   ]
  },
  {
   "cell_type": "code",
   "execution_count": null,
   "metadata": {},
   "outputs": [],
   "source": [
    "#print version\n",
    "with open(input_file) as infile:\n",
    "    infile.readline()\n",
    "\n",
    "    for line in infile:\n",
    "        words = line.strip().split(\",\")[0].split()\n",
    "\n",
    "        for word in words:\n",
    "            print(f\"{word},1\")"
   ]
  },
  {
   "cell_type": "code",
   "execution_count": 3,
   "metadata": {},
   "outputs": [],
   "source": [
    "#file version\n",
    "with open(output_file, 'w') as outfile:\n",
    "    with open(input_file) as infile:\n",
    "        infile.readline()\n",
    "\n",
    "        for line in infile:\n",
    "            words = line.strip().split(',')[0].split()\n",
    "\n",
    "            for word in words:\n",
    "                outfile.write(f'{word},1\\n')\n"
   ]
  },
  {
   "cell_type": "code",
   "execution_count": null,
   "metadata": {},
   "outputs": [],
   "source": [
    "#cli version\n",
    "import sys \n",
    "\n",
    "header = sys.stdin.readline() \n",
    "\n",
    "for line in sys.stdin:\n",
    "    words = line.strip().split(\",\")[0].split()\n",
    "\n",
    "    for word in words:\n",
    "        print(f\"{word},1\")"
   ]
  },
  {
   "cell_type": "markdown",
   "metadata": {},
   "source": [
    "2. bash sort\n",
    "cat keywords_mapped.csv | sort > keywords_sorted.csv"
   ]
  },
  {
   "cell_type": "markdown",
   "metadata": {},
   "source": [
    "3. reducer"
   ]
  },
  {
   "cell_type": "code",
   "execution_count": null,
   "metadata": {},
   "outputs": [],
   "source": [
    "#print version\n",
    "prev = None\n",
    "count = 0\n",
    "\n",
    "with open('keywords_sorted.csv') as f:\n",
    "    for i, line in enumerate(f):\n",
    "        word, one = line.strip().split(',')\n",
    "        one = int(one)\n",
    "\n",
    "        if prev:\n",
    "            if prev == word:\n",
    "                count += one\n",
    "            else:\n",
    "                print(f'{prev},{count}')\n",
    "                count = one\n",
    "                prev = word\n",
    "        else:\n",
    "            prev = word\n",
    "            count = one\n",
    "\n",
    "print(f'{prev},{count}')"
   ]
  },
  {
   "cell_type": "code",
   "execution_count": 8,
   "metadata": {},
   "outputs": [],
   "source": [
    "#file version\n",
    "prev = None\n",
    "count = 0\n",
    "\n",
    "with open('keywords_reduced.csv', 'w') as result:\n",
    "    with open('keywords_sorted.csv') as f:\n",
    "        for i, line in enumerate(f):\n",
    "            word, one = line.strip().split(',')\n",
    "            one = int(one)\n",
    "\n",
    "            if prev:\n",
    "                if prev == word:\n",
    "                    count += one\n",
    "                else:\n",
    "                    result.write(f'{prev},{count}\\n')\n",
    "                    count = one\n",
    "                    prev = word\n",
    "            else:\n",
    "                prev = word\n",
    "                count = one\n",
    "\n",
    "    result.write(f'{prev},{count}\\n')\n"
   ]
  },
  {
   "cell_type": "code",
   "execution_count": null,
   "metadata": {},
   "outputs": [],
   "source": [
    "#cli version\n",
    "import sys \n",
    "\n",
    "prev = None\n",
    "count = 0\n",
    "\n",
    "for i, line in enumerate(sys.stdin):\n",
    "    word, one = line.strip().split(',')\n",
    "    one = int(one)\n",
    "\n",
    "    if prev:\n",
    "        if prev == word:\n",
    "            count += one\n",
    "        else:\n",
    "            print(f'{prev},{count}')\n",
    "            count = one\n",
    "            prev = word\n",
    "    else:\n",
    "        prev = word\n",
    "        count = one\n",
    "\n",
    "print(f'{prev},{count}')"
   ]
  },
  {
   "cell_type": "markdown",
   "metadata": {},
   "source": [
    "Final bash:\n",
    "python3 mapper.py < keywords.csv | sort | python3 reducer.py > keywords_result.csv"
   ]
  }
 ],
 "metadata": {
  "kernelspec": {
   "display_name": "Python 3",
   "language": "python",
   "name": "python3"
  },
  "language_info": {
   "codemirror_mode": {
    "name": "ipython",
    "version": 3
   },
   "file_extension": ".py",
   "mimetype": "text/x-python",
   "name": "python",
   "nbconvert_exporter": "python",
   "pygments_lexer": "ipython3",
   "version": "3.11.2"
  },
  "orig_nbformat": 4
 },
 "nbformat": 4,
 "nbformat_minor": 2
}
